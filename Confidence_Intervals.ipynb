{
  "nbformat": 4,
  "nbformat_minor": 0,
  "metadata": {
    "colab": {
      "provenance": [],
      "include_colab_link": true
    },
    "kernelspec": {
      "name": "python3",
      "display_name": "Python 3"
    },
    "language_info": {
      "name": "python"
    }
  },
  "cells": [
    {
      "cell_type": "markdown",
      "metadata": {
        "id": "view-in-github",
        "colab_type": "text"
      },
      "source": [
        "<a href=\"https://colab.research.google.com/github/DSabarish/Understanding_Stats/blob/main/Confidence_Intervals.ipynb\" target=\"_parent\"><img src=\"https://colab.research.google.com/assets/colab-badge.svg\" alt=\"Open In Colab\"/></a>"
      ]
    },
    {
      "cell_type": "markdown",
      "source": [
        "##Q1: The average time taken for customers to complete a purchase is 4 minutes with a std dev of 1 minute.  \n",
        "\n",
        "Find the probability that a randomly selected customer will complete a purchase within 6 minutes?  \n",
        "Assume Gaussian"
      ],
      "metadata": {
        "id": "Hdnk4VOTO-dh"
      }
    },
    {
      "cell_type": "code",
      "execution_count": 69,
      "metadata": {
        "id": "eyBj3DfLO9C3",
        "colab": {
          "base_uri": "https://localhost:8080/"
        },
        "outputId": "6a2739ca-6616-4aca-b13a-6d8a232780d8"
      },
      "outputs": [
        {
          "output_type": "stream",
          "name": "stdout",
          "text": [
            "Z Score: 2.0\n",
            "Cumulative distribution function (CDF) of a random variable: 0.9772\n"
          ]
        }
      ],
      "source": [
        "x = 6\n",
        "mu = 4\n",
        "std1 = 1\n",
        "\n",
        "z=(x-mu)/std1\n",
        "\n",
        "print(\"Z Score:\",z)\n",
        "print(\"Cumulative distribution function (CDF) of a random variable:\",norm.cdf(z).round(4))   #norm.cdf(z)"
      ]
    },
    {
      "cell_type": "markdown",
      "source": [
        "## Q2: Average body temperature has a mean of 98.6°F and a standard deviation of 0.5°F.  \n",
        "What is the probability that a randomly chosen patient has a body temperature higher than 99.5°F?  "
      ],
      "metadata": {
        "id": "aV_kU-SjRPbF"
      }
    },
    {
      "cell_type": "code",
      "source": [
        "import numpy as np\n",
        "import pandas as pd\n",
        "import seaborn as sns\n",
        "import matplotlib.pyplot as plt\n",
        "import scipy.stats\n",
        "from scipy.stats import norm"
      ],
      "metadata": {
        "id": "v7zrejnhRSNq"
      },
      "execution_count": 70,
      "outputs": []
    },
    {
      "cell_type": "markdown",
      "source": [
        "## What is the probability that the average time of the next 5 customers is less than 6 minutes?    \n"
      ],
      "metadata": {
        "id": "_FIKdy2zRoBm"
      }
    },
    {
      "cell_type": "code",
      "source": [
        "z = (6-4) / (1 / np.sqrt(5))\n",
        "z"
      ],
      "metadata": {
        "colab": {
          "base_uri": "https://localhost:8080/"
        },
        "id": "Iwi1ec2GRj76",
        "outputId": "2992d9a4-d26b-473a-c49f-0738781b0b75"
      },
      "execution_count": 71,
      "outputs": [
        {
          "output_type": "execute_result",
          "data": {
            "text/plain": [
              "4.47213595499958"
            ]
          },
          "metadata": {},
          "execution_count": 71
        }
      ]
    },
    {
      "cell_type": "code",
      "source": [
        "norm.cdf(z)"
      ],
      "metadata": {
        "colab": {
          "base_uri": "https://localhost:8080/"
        },
        "id": "CB98qZ_TTQoO",
        "outputId": "b1506eba-43c1-48f9-a26f-3b40da298898"
      },
      "execution_count": 72,
      "outputs": [
        {
          "output_type": "execute_result",
          "data": {
            "text/plain": [
              "0.9999961278917845"
            ]
          },
          "metadata": {},
          "execution_count": 72
        }
      ]
    },
    {
      "cell_type": "markdown",
      "source": [
        "## Height Example\n",
        "\n",
        "Q: The mean height of a sample of 100 adults was found to be 65 inches, with a standard deviation of 2.5 inches.  "
      ],
      "metadata": {
        "id": "lslsJ47NV0A6"
      }
    },
    {
      "cell_type": "code",
      "source": [
        "z1 = norm.ppf(0.025)\n",
        "z1"
      ],
      "metadata": {
        "colab": {
          "base_uri": "https://localhost:8080/"
        },
        "id": "tfq3RNMUTTck",
        "outputId": "8dbd5153-02a3-42d7-caec-b0fa6dd1c1ed"
      },
      "execution_count": 73,
      "outputs": [
        {
          "output_type": "execute_result",
          "data": {
            "text/plain": [
              "-1.9599639845400545"
            ]
          },
          "metadata": {},
          "execution_count": 73
        }
      ]
    },
    {
      "cell_type": "code",
      "source": [
        "z2 = norm.ppf(0.975)\n",
        "z2"
      ],
      "metadata": {
        "colab": {
          "base_uri": "https://localhost:8080/"
        },
        "id": "YB8c8LnZXvf1",
        "outputId": "72dc12af-b7c0-4d8f-dd2e-a8a1bdb20e9c"
      },
      "execution_count": 74,
      "outputs": [
        {
          "output_type": "execute_result",
          "data": {
            "text/plain": [
              "1.959963984540054"
            ]
          },
          "metadata": {},
          "execution_count": 74
        }
      ]
    },
    {
      "cell_type": "code",
      "source": [
        "## std dev of the sample mean: std error\n",
        "std_error = 2.5 / np.sqrt(100)\n",
        "std_error"
      ],
      "metadata": {
        "colab": {
          "base_uri": "https://localhost:8080/"
        },
        "id": "EPpwDTjMYRoR",
        "outputId": "bfe45734-5c14-412e-f7e7-68236a50a203"
      },
      "execution_count": 75,
      "outputs": [
        {
          "output_type": "execute_result",
          "data": {
            "text/plain": [
              "0.25"
            ]
          },
          "metadata": {},
          "execution_count": 75
        }
      ]
    },
    {
      "cell_type": "code",
      "source": [
        "x1 = 65 + z1 * std_error\n",
        "x1"
      ],
      "metadata": {
        "colab": {
          "base_uri": "https://localhost:8080/"
        },
        "id": "vLTqE8HrZRpe",
        "outputId": "9ad32259-96ad-4236-8219-5a50abb9d78a"
      },
      "execution_count": 76,
      "outputs": [
        {
          "output_type": "execute_result",
          "data": {
            "text/plain": [
              "64.51000900386498"
            ]
          },
          "metadata": {},
          "execution_count": 76
        }
      ]
    },
    {
      "cell_type": "code",
      "source": [
        "x2 = 65 + z2 * std_error\n",
        "x2"
      ],
      "metadata": {
        "colab": {
          "base_uri": "https://localhost:8080/"
        },
        "id": "3RBrM_NGZ2hx",
        "outputId": "937c1633-93ab-4fd3-a271-de5967ae9e48"
      },
      "execution_count": 77,
      "outputs": [
        {
          "output_type": "execute_result",
          "data": {
            "text/plain": [
              "65.48999099613502"
            ]
          },
          "metadata": {},
          "execution_count": 77
        }
      ]
    },
    {
      "cell_type": "markdown",
      "source": [
        "## The sample mean recovery time of 100 patients after taking a drug was seen to be 10.5 days with a standard deviation of 2 days    \n",
        "Find the 95% confidence interval of the true mean."
      ],
      "metadata": {
        "id": "u240EDH4f1-9"
      }
    },
    {
      "cell_type": "code",
      "source": [
        "std_error = 2 / np.sqrt(100)\n",
        "std_error"
      ],
      "metadata": {
        "colab": {
          "base_uri": "https://localhost:8080/"
        },
        "id": "1ednOgcwZ5Z7",
        "outputId": "cd692d82-aeea-409f-acd0-675cca8643ee"
      },
      "execution_count": 78,
      "outputs": [
        {
          "output_type": "execute_result",
          "data": {
            "text/plain": [
              "0.2"
            ]
          },
          "metadata": {},
          "execution_count": 78
        }
      ]
    },
    {
      "cell_type": "code",
      "source": [
        "z1 = norm.ppf(0.025)\n",
        "x1 = 10.5 + z1*std_error\n",
        "x1"
      ],
      "metadata": {
        "colab": {
          "base_uri": "https://localhost:8080/"
        },
        "id": "SH0Og_GegNLa",
        "outputId": "631e3889-061d-43ea-c2e7-afdf991b51ea"
      },
      "execution_count": 79,
      "outputs": [
        {
          "output_type": "execute_result",
          "data": {
            "text/plain": [
              "10.108007203091988"
            ]
          },
          "metadata": {},
          "execution_count": 79
        }
      ]
    },
    {
      "cell_type": "code",
      "source": [
        "z2 = norm.ppf(0.975)\n",
        "x2 = 10.5 + z2*std_error\n",
        "x2"
      ],
      "metadata": {
        "colab": {
          "base_uri": "https://localhost:8080/"
        },
        "id": "DJIiRgiVgViU",
        "outputId": "a491d5a8-f18f-41cc-d9aa-fe83d95a40ea"
      },
      "execution_count": 80,
      "outputs": [
        {
          "output_type": "execute_result",
          "data": {
            "text/plain": [
              "10.89199279690801"
            ]
          },
          "metadata": {},
          "execution_count": 80
        }
      ]
    },
    {
      "cell_type": "markdown",
      "source": [
        "The mean Youtube watch time of a sample of 100 students was found to be 3.5 hours,  \n",
        "with a standard deviation of 1 hour.   \n",
        "Construct a 90% confidence interval for the true watch time.  "
      ],
      "metadata": {
        "id": "rH0P_b-qhngs"
      }
    },
    {
      "cell_type": "code",
      "source": [
        "def calc_CI(mean, std, N, confidence):\n",
        "    # calculate std_error\n",
        "    std_error = std / np.sqrt(N)\n",
        "    print(\"Standard Error: \", std_error)\n",
        "\n",
        "    # calculate the remaining fractions\n",
        "    frac = (1 - (confidence/100)) / 2\n",
        "\n",
        "    # calculate z1 and z2\n",
        "    z1 = norm.ppf(frac)\n",
        "    z2 = norm.ppf(1 - frac)\n",
        "\n",
        "    # calculate end points\n",
        "    x1 = mean + (z1 * std_error)\n",
        "    x2 = mean + (z2 * std_error)\n",
        "\n",
        "    return x1, x2"
      ],
      "metadata": {
        "id": "wwwS_AAEgZ__"
      },
      "execution_count": 81,
      "outputs": []
    },
    {
      "cell_type": "code",
      "source": [
        "calc_CI(3.5, 1, 100, 90)"
      ],
      "metadata": {
        "colab": {
          "base_uri": "https://localhost:8080/"
        },
        "id": "yefIko3Vi6NG",
        "outputId": "13c5f6ef-7c68-46cd-8a17-784b826ae7b7"
      },
      "execution_count": 82,
      "outputs": [
        {
          "output_type": "stream",
          "name": "stdout",
          "text": [
            "Standard Error:  0.1\n"
          ]
        },
        {
          "output_type": "execute_result",
          "data": {
            "text/plain": [
              "(3.3355146373048528, 3.6644853626951472)"
            ]
          },
          "metadata": {},
          "execution_count": 82
        }
      ]
    },
    {
      "cell_type": "markdown",
      "source": [
        "## Confidence Interval using Bootstrap"
      ],
      "metadata": {
        "id": "6ZUM7aQPj5fd"
      }
    },
    {
      "cell_type": "code",
      "source": [
        "survey_1 = [35, 36, 33, 37, 34, 35]\n",
        "np.mean(survey_1)"
      ],
      "metadata": {
        "colab": {
          "base_uri": "https://localhost:8080/"
        },
        "id": "3xsKMsLAjGbe",
        "outputId": "258c77e1-d4b0-40ca-fb7e-8ce719271986"
      },
      "execution_count": 83,
      "outputs": [
        {
          "output_type": "execute_result",
          "data": {
            "text/plain": [
              "35.0"
            ]
          },
          "metadata": {},
          "execution_count": 83
        }
      ]
    },
    {
      "cell_type": "code",
      "source": [
        "survey_2 = [20, 37, 17, 50, 53, 33]\n",
        "np.mean(survey_2)\n"
      ],
      "metadata": {
        "colab": {
          "base_uri": "https://localhost:8080/"
        },
        "id": "GjhSgtaykQ0T",
        "outputId": "c7a55c3c-e34a-419d-d514-0e97c4bf3750"
      },
      "execution_count": 84,
      "outputs": [
        {
          "output_type": "execute_result",
          "data": {
            "text/plain": [
              "35.0"
            ]
          },
          "metadata": {},
          "execution_count": 84
        }
      ]
    },
    {
      "cell_type": "code",
      "source": [
        "## sampling with replacement\n",
        "n = 6\n",
        "bootstrapped_samples = np.random.choice(survey_1, size=n)\n",
        "np.mean(bootstrapped_samples)"
      ],
      "metadata": {
        "colab": {
          "base_uri": "https://localhost:8080/"
        },
        "id": "56Pq-ouukuut",
        "outputId": "2efc23ea-65b9-4c22-f0bf-e8c2908dbdee"
      },
      "execution_count": 85,
      "outputs": [
        {
          "output_type": "execute_result",
          "data": {
            "text/plain": [
              "35.0"
            ]
          },
          "metadata": {},
          "execution_count": 85
        }
      ]
    },
    {
      "cell_type": "code",
      "source": [
        "n = 6\n",
        "bootstrapped_samples_2 = np.random.choice(survey_2, size=n)\n",
        "np.mean(bootstrapped_samples_2)"
      ],
      "metadata": {
        "colab": {
          "base_uri": "https://localhost:8080/"
        },
        "id": "hYKfDOlJlCmP",
        "outputId": "48f42375-7163-48db-ced5-d43f2dcb65f7"
      },
      "execution_count": 86,
      "outputs": [
        {
          "output_type": "execute_result",
          "data": {
            "text/plain": [
              "34.833333333333336"
            ]
          },
          "metadata": {},
          "execution_count": 86
        }
      ]
    },
    {
      "cell_type": "code",
      "source": [
        "bootstrapped_means_survey_1 = []\n",
        "\n",
        "for reps in range(10000):\n",
        "    bootstrapped_samples = np.random.choice(survey_1, size=n)\n",
        "    means = np.mean(bootstrapped_samples)\n",
        "    bootstrapped_means_survey_1.append(means)"
      ],
      "metadata": {
        "id": "f8jI6_l-lUO5"
      },
      "execution_count": 87,
      "outputs": []
    },
    {
      "cell_type": "code",
      "source": [
        "sns.histplot(bootstrapped_means_survey_1)"
      ],
      "metadata": {
        "colab": {
          "base_uri": "https://localhost:8080/",
          "height": 447
        },
        "id": "K__W447Ql3O9",
        "outputId": "03a655f5-fd9e-4382-bd94-474c2dff44a1"
      },
      "execution_count": 88,
      "outputs": [
        {
          "output_type": "execute_result",
          "data": {
            "text/plain": [
              "<Axes: ylabel='Count'>"
            ]
          },
          "metadata": {},
          "execution_count": 88
        },
        {
          "output_type": "display_data",
          "data": {
            "text/plain": [
              "<Figure size 640x480 with 1 Axes>"
            ],
            "image/png": "[encoded data removed]"
          },
          "metadata": {}
        }
      ]
    },
    {
      "cell_type": "code",
      "source": [
        "bootstrapped_means_survey_2 = []\n",
        "\n",
        "for reps in range(10000):\n",
        "    bootstrapped_samples = np.random.choice(survey_2, size=n)\n",
        "    means = np.mean(bootstrapped_samples)\n",
        "    bootstrapped_means_survey_2.append(means)"
      ],
      "metadata": {
        "id": "e0o9z2W4l8VZ"
      },
      "execution_count": 89,
      "outputs": []
    },
    {
      "cell_type": "code",
      "source": [
        "sns.histplot(bootstrapped_means_survey_2)"
      ],
      "metadata": {
        "colab": {
          "base_uri": "https://localhost:8080/",
          "height": 450
        },
        "id": "xhYeJZ1amFCv",
        "outputId": "8452a1c2-e53e-4868-8709-58e7a41ed245"
      },
      "execution_count": 90,
      "outputs": [
        {
          "output_type": "execute_result",
          "data": {
            "text/plain": [
              "<Axes: ylabel='Count'>"
            ]
          },
          "metadata": {},
          "execution_count": 90
        },
        {
          "output_type": "display_data",
          "data": {
            "text/plain": [
              "<Figure size 640x480 with 1 Axes>"
            ],
            "image/png": "[encoded data removed]"
          },
          "metadata": {}
        }
      ]
    },
    {
      "cell_type": "code",
      "source": [
        "len(bootstrapped_means_survey_1)"
      ],
      "metadata": {
        "colab": {
          "base_uri": "https://localhost:8080/"
        },
        "id": "mmKP-D5cmIqv",
        "outputId": "b4261c8e-729f-4530-b23e-d680e12e6f75"
      },
      "execution_count": 91,
      "outputs": [
        {
          "output_type": "execute_result",
          "data": {
            "text/plain": [
              "10000"
            ]
          },
          "metadata": {},
          "execution_count": 91
        }
      ]
    },
    {
      "cell_type": "code",
      "source": [
        "x1 = np.percentile(bootstrapped_means_survey_1, 2.5)\n",
        "x1"
      ],
      "metadata": {
        "colab": {
          "base_uri": "https://localhost:8080/"
        },
        "id": "7RUa9Vd5mizx",
        "outputId": "02e38650-227d-46da-d15b-9f85dbd66fbb"
      },
      "execution_count": 92,
      "outputs": [
        {
          "output_type": "execute_result",
          "data": {
            "text/plain": [
              "34.0"
            ]
          },
          "metadata": {},
          "execution_count": 92
        }
      ]
    },
    {
      "cell_type": "code",
      "source": [
        "x2 = np.percentile(bootstrapped_means_survey_1, 97.5)\n",
        "x2"
      ],
      "metadata": {
        "colab": {
          "base_uri": "https://localhost:8080/"
        },
        "id": "Mca7cAfdmrOK",
        "outputId": "9cedbb48-fe58-49aa-f9de-6b709414fce2"
      },
      "execution_count": 93,
      "outputs": [
        {
          "output_type": "execute_result",
          "data": {
            "text/plain": [
              "36.0"
            ]
          },
          "metadata": {},
          "execution_count": 93
        }
      ]
    },
    {
      "cell_type": "markdown",
      "source": [
        "95% of the numbers lie between 34 & 36.\n",
        "confidence interval (34, 36)"
      ],
      "metadata": {
        "id": "VIpJcTKnmyMl"
      }
    },
    {
      "cell_type": "code",
      "source": [
        "x1 = np.percentile(bootstrapped_means_survey_2, 2.5)\n",
        "x1"
      ],
      "metadata": {
        "colab": {
          "base_uri": "https://localhost:8080/"
        },
        "id": "XT0LCRx4mvcW",
        "outputId": "f97931d4-2460-44eb-b49b-900e5dc4a79f"
      },
      "execution_count": 94,
      "outputs": [
        {
          "output_type": "execute_result",
          "data": {
            "text/plain": [
              "24.0"
            ]
          },
          "metadata": {},
          "execution_count": 94
        }
      ]
    },
    {
      "cell_type": "code",
      "source": [
        "x2 = np.percentile(bootstrapped_means_survey_2, 97.5)\n",
        "x2"
      ],
      "metadata": {
        "colab": {
          "base_uri": "https://localhost:8080/"
        },
        "id": "yXEG9gyAm-R-",
        "outputId": "c49e5b44-db3a-4534-88ed-42cad65c2b02"
      },
      "execution_count": 95,
      "outputs": [
        {
          "output_type": "execute_result",
          "data": {
            "text/plain": [
              "46.0"
            ]
          },
          "metadata": {},
          "execution_count": 95
        }
      ]
    },
    {
      "cell_type": "code",
      "source": [],
      "metadata": {
        "id": "RYL5eS5KnAqz"
      },
      "execution_count": 95,
      "outputs": []
    }
  ]
}